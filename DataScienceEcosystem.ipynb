{
 "cells": [
  {
   "cell_type": "markdown",
   "id": "067ece91",
   "metadata": {},
   "source": [
    "# Data Science Tools and Ecosystem"
   ]
  },
  {
   "cell_type": "markdown",
   "id": "67269391",
   "metadata": {},
   "source": [
    "In this notebook, Data Science Tools and Ecosystem are summarized."
   ]
  },
  {
   "cell_type": "markdown",
   "id": "2a25f6c2",
   "metadata": {},
   "source": [
    "### Exercise 10 - Insert a markdown cell to list Objectives\n",
    "\n",
    "\n",
    "### Objectives:\n",
    "- List popular languages for Data Science\n",
    "- List the scientific computing libraries in Python  \n",
    "- List the high-level machine learning and deep learning libraries\n",
    "- Define a Jupyter Notebook,  \n",
    "- Describe how to use the notebooks in JupyterLab. "
   ]
  },
  {
   "cell_type": "markdown",
   "id": "572e24b3",
   "metadata": {},
   "source": [
    "### Exercise 4\n",
    "Some of the popular languages that Data Scientists use are:"
   ]
  },
  {
   "cell_type": "markdown",
   "id": "8003d5fd",
   "metadata": {},
   "source": [
    "1. Python\n",
    "2. R\n",
    "3. SQL\n",
    "4. Scala\n",
    "5. Java\n",
    "6. C++\n",
    "7. Julia"
   ]
  },
  {
   "cell_type": "markdown",
   "id": "d92d9094",
   "metadata": {},
   "source": [
    "### Exercise 5 - Create a markdown cell to list data science libraries\n",
    "\n",
    "Some of the commonly used libraries used by Data Scientists include:"
   ]
  },
  {
   "cell_type": "markdown",
   "id": "a7823f2d",
   "metadata": {},
   "source": [
    "1. Pandas\n",
    "2. NumPy\n",
    "3. SciPy\n",
    "4. Matplotlib."
   ]
  },
  {
   "cell_type": "markdown",
   "id": "38d05129",
   "metadata": {},
   "source": [
    "### Exercise 6 - Create a markdown cell with a table of Data Science tools\n",
    "\n",
    "| Data Science Tools |\n",
    "| -------------------|\n",
    "| Jupiter Lab        |\n",
    "| Apache Zeppelin    |\n",
    "| RStudio            |\n"
   ]
  },
  {
   "cell_type": "markdown",
   "id": "8a803d52",
   "metadata": {},
   "source": [
    "### Exercise 7 - Create a markdown cell introducing arithmetic expression examples\n",
    "\n",
    "### Below are a few examples of evaluating arithmetic expressions in Python.\n"
   ]
  },
  {
   "cell_type": "code",
   "execution_count": null,
   "id": "159a73c7",
   "metadata": {},
   "outputs": [],
   "source": []
  },
  {
   "cell_type": "markdown",
   "id": "f9125fde",
   "metadata": {},
   "source": [
    "### Exercise 8 - Create a code cell to multiply and add numbers\n",
    "\n"
   ]
  },
  {
   "cell_type": "code",
   "execution_count": 3,
   "id": "74fb92ce",
   "metadata": {},
   "outputs": [
    {
     "data": {
      "text/plain": [
       "17"
      ]
     },
     "execution_count": 3,
     "metadata": {},
     "output_type": "execute_result"
    }
   ],
   "source": [
    "# This a simple arithmetic expression to mutiply then add integers\n",
    "(3*4)+5"
   ]
  },
  {
   "cell_type": "markdown",
   "id": "909923ee",
   "metadata": {},
   "source": [
    "### Exercise 9 - Create a code cell to convert minutes to hours\n",
    "\n"
   ]
  },
  {
   "cell_type": "code",
   "execution_count": 6,
   "id": "bfe0bd92",
   "metadata": {},
   "outputs": [
    {
     "data": {
      "text/plain": [
       "3.3333333333333335"
      ]
     },
     "execution_count": 6,
     "metadata": {},
     "output_type": "execute_result"
    }
   ],
   "source": [
    "# This will convert 200 minutes to hours by diving by 60\n",
    "200/60"
   ]
  },
  {
   "cell_type": "markdown",
   "id": "00239b56",
   "metadata": {},
   "source": [
    "### Exercise 11 - Create a markdown cell to indicate the Author's name"
   ]
  },
  {
   "cell_type": "markdown",
   "id": "6a256f3a",
   "metadata": {},
   "source": [
    "## Author\n",
    "Alessandro M."
   ]
  },
  {
   "cell_type": "markdown",
   "id": "df81c0e1",
   "metadata": {},
   "source": [
    "### Exercise 12 - Share your notebook through GitHub\n",
    "\n"
   ]
  },
  {
   "cell_type": "code",
   "execution_count": null,
   "id": "ce067efc",
   "metadata": {},
   "outputs": [],
   "source": []
  }
 ],
 "metadata": {
  "kernelspec": {
   "display_name": "Python 3 (ipykernel)",
   "language": "python",
   "name": "python3"
  },
  "language_info": {
   "codemirror_mode": {
    "name": "ipython",
    "version": 3
   },
   "file_extension": ".py",
   "mimetype": "text/x-python",
   "name": "python",
   "nbconvert_exporter": "python",
   "pygments_lexer": "ipython3",
   "version": "3.10.9"
  }
 },
 "nbformat": 4,
 "nbformat_minor": 5
}
